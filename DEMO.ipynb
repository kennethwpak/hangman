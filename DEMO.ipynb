{
 "cells": [
  {
   "cell_type": "code",
   "execution_count": 1,
   "id": "51ca03db",
   "metadata": {
    "scrolled": true
   },
   "outputs": [
    {
     "name": "stdout",
     "output_type": "stream",
     "text": [
      "Loading word list from file...\n",
      "   55900 words loaded.\n",
      "Welcome to hangman o(≧▽≦*)o!\n",
      "I am thinking of a word that is 6 letters long.\n",
      "You have 6 guesses left.\n",
      "Available letters: abcdefghijklmnopqrstuvwxyz\n",
      "You should guess only one letter at a time\n",
      "-----------------------------------------------\n",
      "Please enter your guess: cheat\n",
      "formed\n",
      "You cheated, but you win\n"
     ]
    }
   ],
   "source": [
    "import hangman1\n",
    "\n",
    "hangman1.hangman(hangman1.secret_word)"
   ]
  },
  {
   "cell_type": "code",
   "execution_count": null,
   "id": "07beec46",
   "metadata": {},
   "outputs": [],
   "source": []
  }
 ],
 "metadata": {
  "kernelspec": {
   "display_name": "Python 3 (ipykernel)",
   "language": "python",
   "name": "python3"
  },
  "language_info": {
   "codemirror_mode": {
    "name": "ipython",
    "version": 3
   },
   "file_extension": ".py",
   "mimetype": "text/x-python",
   "name": "python",
   "nbconvert_exporter": "python",
   "pygments_lexer": "ipython3",
   "version": "3.9.7"
  }
 },
 "nbformat": 4,
 "nbformat_minor": 5
}
